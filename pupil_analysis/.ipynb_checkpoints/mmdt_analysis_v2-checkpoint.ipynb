{
 "cells": [
  {
   "cell_type": "code",
   "execution_count": 2,
   "metadata": {
    "collapsed": false,
    "jupyter": {
     "outputs_hidden": false
    },
    "pycharm": {
     "is_executing": true,
     "name": "#%%\n"
    }
   },
   "outputs": [],
   "source": [
    "import numpy as np\n",
    "import pandas as pd\n",
    "import matplotlib.pyplot as plt\n",
    "import os"
   ]
  },
  {
   "cell_type": "markdown",
   "metadata": {},
   "source": [
    "# Import Data\n",
    "\n",
    "markers is a nested dictionary with marker data loaded into Pandas dataframe per subject and trial."
   ]
  },
  {
   "cell_type": "code",
   "execution_count": 258,
   "metadata": {
    "collapsed": false,
    "jupyter": {
     "outputs_hidden": false
    },
    "pycharm": {
     "name": "#%%\n"
    }
   },
   "outputs": [
    {
     "name": "stdout",
     "output_type": "stream",
     "text": [
      "markers\n",
      "subject4\n",
      "subject3\n",
      "subject1\n",
      "subject5\n",
      "subject2\n",
      "subject6\n"
     ]
    }
   ],
   "source": [
    "markers_dir = \"./data/markers\"\n",
    "\n",
    "markers = {}\n",
    "for root, dirs, files in os.walk(markers_dir):\n",
    "    # print(root)\n",
    "    # print(dirs)\n",
    "    # print(files)\n",
    "    if not files:\n",
    "        for subject in dirs:\n",
    "            markers[subject] = {}\n",
    "    \n",
    "    head_tail = os.path.split(root)\n",
    "    print(head_tail[1])\n",
    "    for file in files:\n",
    "        root_ext = os.path.splitext(file)\n",
    "        trial_path = os.path.join(root, file)\n",
    "        # print(trial_path)\n",
    "        # root_ext[0]: ND1, ND2, D1, D2, ...\n",
    "        # print(root_ext[0])\n",
    "        trial_df = pd.read_csv(trial_path)\n",
    "        # markers[head_tail[1]][root_ext[0]] = {\"trial_df\": pd.read_csv(trial_path), \n",
    "        #                                       \"timestamps\": trial_df[\"Timestamp\"].to_numpy(), \n",
    "        #                                       \"markers\": trial_df[\"Marker\"].to_list()}\n",
    "        markers[head_tail[1]][root_ext[0]] = {\"trial_df\": trial_df, \n",
    "                                              \"timestamps\": trial_df[\"Timestamp\"].to_numpy(), \n",
    "                                              \"markers\": trial_df[\"Marker\"].to_list()}\n",
    "\n",
    "    # for subject, trials in markers.items():\n",
    "    #     for trial, data in trials.items():\n",
    "    #         print(\"   \", trial)\n",
    "    #         print(\"      \", data[\"timestamps\"][0])\n"
   ]
  },
  {
   "cell_type": "markdown",
   "metadata": {
    "jp-MarkdownHeadingCollapsed": true,
    "tags": []
   },
   "source": [
    "## Dictionary Structure\n",
    "\n",
    "ND = non dominant hand\n",
    "\n",
    "D = dominant hand\n",
    "\n",
    "ND and D represent trials and each are dictionary entries that have a pandas Dataframe with all the marker data."
   ]
  },
  {
   "cell_type": "code",
   "execution_count": 239,
   "metadata": {
    "collapsed": false,
    "jupyter": {
     "outputs_hidden": false
    },
    "pycharm": {
     "name": "#%%\n"
    }
   },
   "outputs": [],
   "source": [
    "for subject, trials in markers.items():\n",
    "    # print(subject)\n",
    "    for trial, data in trials.items():\n",
    "        # print(\"   \", trial)\n",
    "        # TODO: print keys of dictionary for each trial\n",
    "        # print(type(data))\n",
    "        pass"
   ]
  },
  {
   "cell_type": "markdown",
   "metadata": {},
   "source": [
    "# Data Filtering"
   ]
  },
  {
   "cell_type": "markdown",
   "metadata": {
    "tags": []
   },
   "source": [
    "## Experiment Duration Calculation"
   ]
  },
  {
   "cell_type": "code",
   "execution_count": 259,
   "metadata": {},
   "outputs": [],
   "source": [
    "for subject, trials in markers.items():\n",
    "    for trial, data in trials.items():\n",
    "        start_index = data[\"markers\"].index(\"Experiment Start\")\n",
    "        end_index = data[\"markers\"].index(\"Experiment End\")\n",
    "#         print(markers[subject][trial][\"timestamps\"][markers[subject][trial][\"markers\"].index(\"Experiment End\")] \\\n",
    "#                                                 - markers[subject][trial][\"timestamps\"][markers[subject][trial][\"markers\"].index(\"Experiment Start\")])\n",
    "        \n",
    "#         markers[subject][trial][\"duration\"] = markers[subject][trial][\"timestamps\"][markers[subject][trial][\"markers\"].index(\"Experiment End\")] \\\n",
    "#                                                 - markers[subject][trial][\"timestamps\"][markers[subject][trial][\"markers\"].index(\"Experiment Start\")]\n",
    "        # print(markers[subject][trial])\n",
    "        \n",
    "        # data[\"duration\"] = data[\"timestamps\"][data[\"markers\"].index(\"Experiment End\")] - data[\"timestamps\"][data[\"markers\"].index(\"Experiment Start\")]\n",
    "        data[\"experiment_length\"] = data[\"timestamps\"][end_index] - data[\"timestamps\"][start_index]\n",
    "        data.update({\"timestamps\": np.delete(data[\"timestamps\"], [start_index, end_index])})\n",
    "        # data.update({\"timestamps\": np.delete(data[\"timestamps\"], [data[\"markers\"].index(\"Experiment Start\"), data[\"markers\"].index(\"Experiment End\")])})\n",
    "        data[\"markers\"].remove(\"Experiment Start\")\n",
    "        data[\"markers\"].remove(\"Experiment End\")\n",
    "        "
   ]
  },
  {
   "cell_type": "code",
   "execution_count": 260,
   "metadata": {},
   "outputs": [
    {
     "name": "stdout",
     "output_type": "stream",
     "text": [
      "subject4\n",
      "    ND2  duration:  75.09828199999993\n",
      "    D1  duration:  71.34434599999986\n",
      "    ND1  duration:  76.38666000000012\n",
      "    D2  duration:  70.52425149999999\n",
      "subject3\n",
      "    ND2  duration:  70.32544349999989\n",
      "    D1  duration:  64.3442315000002\n",
      "    ND1  duration:  74.86595550099992\n",
      "    D2  duration:  64.12581650000084\n",
      "subject1\n",
      "    ND2  duration:  71.09831099999974\n",
      "    D1  duration:  71.89937199999986\n",
      "    ND1  duration:  79.94344300000012\n",
      "    D2  duration:  64.29326599900014\n",
      "subject5\n",
      "    ND2  duration:  63.75190549900071\n",
      "    D1  duration:  75.06746899900008\n",
      "    ND1  duration:  67.96479\n",
      "    D2  duration:  66.99032449900005\n",
      "subject2\n",
      "    ND2  duration:  83.14426600000024\n",
      "    D1  duration:  86.88485300000002\n",
      "    ND1  duration:  87.51868149899974\n",
      "    D2  duration:  83.3676405000001\n",
      "subject6\n",
      "    ND2  duration:  74.32992350100176\n",
      "    D1  duration:  73.11779449999813\n",
      "    ND1  duration:  73.91095750000022\n",
      "    D2  duration:  80.42560199999934\n"
     ]
    }
   ],
   "source": [
    "for subject, trials in markers.items():\n",
    "    print(subject)\n",
    "    for trial, data in trials.items():\n",
    "        print(\"   \", trial, \" duration: \", data[\"experiment_length\"])\n",
    "        # print(\"  trial: \", trial, data[\"timestamps\"])\n",
    "        "
   ]
  },
  {
   "cell_type": "markdown",
   "metadata": {
    "tags": []
   },
   "source": [
    "## Check order of markers"
   ]
  },
  {
   "cell_type": "code",
   "execution_count": 261,
   "metadata": {},
   "outputs": [
    {
     "name": "stdout",
     "output_type": "stream",
     "text": [
      "subject4\n",
      "Trial:  ND2\n",
      "Trial:  D1\n",
      "Trial:  ND1\n",
      "Trial:  D2\n",
      "subject3\n",
      "Trial:  ND2\n",
      "Trial:  D1\n",
      "Trial:  ND1\n",
      "Trial:  D2\n",
      "subject1\n",
      "Trial:  ND2\n",
      "Trial:  D1\n",
      "Trial:  ND1\n",
      "Trial:  D2\n",
      "subject5\n",
      "Trial:  ND2\n",
      "Trial:  D1\n",
      "Trial:  ND1\n",
      "Trial:  D2\n",
      "subject2\n",
      "Trial:  ND2\n",
      "Trial:  D1\n",
      "Trial:  ND1\n",
      "Trial:  D2\n",
      "subject6\n",
      "Trial:  ND2\n",
      "Trial:  D1\n",
      "Trial:  ND1\n",
      "Trial:  D2\n"
     ]
    }
   ],
   "source": [
    "def check_list(marker_list):\n",
    "    for i in range(len(marker_list)-1):\n",
    "        if marker_list[i] == \"Target A Start\" and marker_list[i+1] != \"Target A End\":\n",
    "            print(\"csv has issues at index: \", i)\n",
    "            print(\"Next marker should be Target A End but is \", marker_list[i+1])\n",
    "            break\n",
    "        elif marker_list[i] == \"Target A End\" and marker_list[i+1] != \"Goal A Start\":\n",
    "            print(\"csv has issues at index: \", i)\n",
    "            print(\"Next marker should be Goal A Start but is \", marker_list[i+1])\n",
    "            break\n",
    "        elif marker_list[i] == \"Goal A Start\" and marker_list[i+1] != \"Goal A End\":\n",
    "            print(\"csv has issues at index: \", i)\n",
    "            print(\"Next marker should be Goal A End but is \", marker_list[i+1])\n",
    "            break\n",
    "        elif marker_list[i] == \"Target B Start\" and marker_list[i+1] != \"Target B End\":\n",
    "            print(\"csv has issues at index: \", i)\n",
    "            print(\"Next marker should be Target B End but is \", marker_list[i+1])\n",
    "            break\n",
    "        elif marker_list[i] == \"Target B End\" and marker_list[i+1] != \"Goal B Start\":\n",
    "            print(\"csv has issues at index: \", i)\n",
    "            print(\"Next marker should be Goal B Start but is \", marker_list[i+1])\n",
    "            break\n",
    "        elif marker_list[i] == \"Goal B Start\" and marker_list[i+1] != \"Goal B End\":\n",
    "            print(\"csv has issues at index: \", i)\n",
    "            print(\"Next marker should be Goal B End but is \", marker_list[i+1])\n",
    "            break\n",
    "        elif marker_list[i] == \"Target C Start\" and marker_list[i+1] != \"Target C End\":\n",
    "            print(\"csv has issues at index: \", i)\n",
    "            print(\"Next marker should be Target C End but is \", marker_list[i+1])\n",
    "            break\n",
    "        elif marker_list[i] == \"Target C End\" and marker_list[i+1] != \"Goal C Start\":\n",
    "            print(\"csv has issues at index: \", i)\n",
    "            print(\"Next marker should be Goal C Start but is \", marker_list[i+1])\n",
    "            break\n",
    "        elif marker_list[i] == \"Goal C Start\" and marker_list[i+1] != \"Goal C End\":\n",
    "            print(\"csv has issues at index: \", i)\n",
    "            print(\"Next marker should be Goal C End but is \", marker_list[i+1])\n",
    "            break\n",
    "        elif marker_list[i] == \"Target D Start\" and marker_list[i+1] != \"Target D End\":\n",
    "            print(\"csv has issues at index: \", i)\n",
    "            print(\"Next marker should be Target D End but is \", marker_list[i+1])\n",
    "            break\n",
    "        elif marker_list[i] == \"Target D End\" and marker_list[i+1] != \"Goal D Start\":\n",
    "            print(\"csv has issues at index: \", i)\n",
    "            print(\"Next marker should be Goal D Start but is \", marker_list[i+1])\n",
    "            break\n",
    "        elif marker_list[i] == \"Goal D Start\" and marker_list[i+1] != \"Goal D End\":\n",
    "            print(\"csv has issues at index: \", i)\n",
    "            print(\"Next marker should be Goal D End but is \", marker_list[i+1])\n",
    "            break\n",
    "        # TODO: it's possible to shorten the code for this tremendously. Add case when goal ends, next must be target start\n",
    "\n",
    "# If no error messages, then good\n",
    "for subject, trials in markers.items():\n",
    "    print(subject)\n",
    "    for trial, data in trials.items():\n",
    "        print(\"Trial: \", trial)\n",
    "        check_list(data[\"markers\"])"
   ]
  },
  {
   "cell_type": "markdown",
   "metadata": {},
   "source": [
    "## Duration Calculations"
   ]
  },
  {
   "cell_type": "code",
   "execution_count": 265,
   "metadata": {},
   "outputs": [
    {
     "name": "stdout",
     "output_type": "stream",
     "text": [
      "subject4\n",
      "Trial:  ND2\n",
      "Trial:  D1\n",
      "Trial:  ND1\n",
      "Trial:  D2\n",
      "subject3\n",
      "Trial:  ND2\n",
      "Trial:  D1\n",
      "Trial:  ND1\n",
      "Trial:  D2\n",
      "subject1\n",
      "Trial:  ND2\n",
      "Trial:  D1\n",
      "Trial:  ND1\n",
      "Trial:  D2\n",
      "subject5\n",
      "Trial:  ND2\n",
      "Trial:  D1\n",
      "Trial:  ND1\n",
      "Trial:  D2\n",
      "subject2\n",
      "Trial:  ND2\n",
      "Trial:  D1\n",
      "Trial:  ND1\n",
      "Trial:  D2\n",
      "subject6\n",
      "Trial:  ND2\n",
      "Trial:  D1\n",
      "Trial:  ND1\n",
      "Trial:  D2\n"
     ]
    }
   ],
   "source": [
    "def calculate_duration(timestamp_list, marker_list):\n",
    "    if len(marker_list) % 4:\n",
    "        print(len(marker_list))\n",
    "        print(\"List not correct size! Please check input list\")\n",
    "        return None, None\n",
    "    else:\n",
    "        durations = np.zeros((int(len(marker_list)/4), 2))\n",
    "        positions = []\n",
    "        for i in range(durations.shape[0]):\n",
    "            start_index = i*4\n",
    "            if marker_list[start_index] == \"Target A Start\" and marker_list[start_index+1] == \"Target A End\" and marker_list[start_index+2] == \"Goal A Start\" and marker_list[start_index+3] == \"Goal A End\":\n",
    "                durations[i,0] = timestamp_list[start_index+1] - timestamp_list[start_index]\n",
    "                durations[i,1] = timestamp_list[start_index+3] - timestamp_list[start_index+2]\n",
    "                positions.append(\"A\")\n",
    "            elif marker_list[start_index] == \"Target B Start\" and marker_list[start_index+1] == \"Target B End\" and marker_list[start_index+2] == \"Goal B Start\" and marker_list[start_index+3] == \"Goal B End\":\n",
    "                durations[i,0] = timestamp_list[start_index+1] - timestamp_list[start_index]\n",
    "                durations[i,1] = timestamp_list[start_index+3] - timestamp_list[start_index+2]\n",
    "                positions.append(\"B\")\n",
    "            elif marker_list[start_index] == \"Target C Start\" and marker_list[start_index+1] == \"Target C End\" and marker_list[start_index+2] == \"Goal C Start\" and marker_list[start_index+3] == \"Goal C End\":\n",
    "                durations[i,0] = timestamp_list[start_index+1] - timestamp_list[start_index]\n",
    "                durations[i,1] = timestamp_list[start_index+3] - timestamp_list[start_index+2]\n",
    "                positions.append(\"C\")\n",
    "            elif marker_list[start_index] == \"Target D Start\" and marker_list[start_index+1] == \"Target D End\" and marker_list[start_index+2] == \"Goal D Start\" and marker_list[start_index+3] == \"Goal D End\":\n",
    "                durations[i,0] = timestamp_list[start_index+1] - timestamp_list[start_index]\n",
    "                durations[i,1] = timestamp_list[start_index+3] - timestamp_list[start_index+2]\n",
    "                positions.append(\"D\")\n",
    "            else:\n",
    "                print(\"Order of markers is not right!\")\n",
    "                break\n",
    "        return durations, positions\n",
    "    \n",
    "\n",
    "for subject, trials in markers.items():\n",
    "    print(subject)\n",
    "    for trial, data in trials.items():\n",
    "        print(\"Trial: \", trial)\n",
    "        duration, position = calculate_duration(data[\"timestamps\"], data[\"markers\"])\n",
    "        data[\"durations\"] = duration\n",
    "        data[\"positions\"] = position"
   ]
  },
  {
   "cell_type": "markdown",
   "metadata": {},
   "source": [
    "# Average Subject Analysis"
   ]
  },
  {
   "cell_type": "code",
   "execution_count": null,
   "metadata": {},
   "outputs": [],
   "source": []
  },
  {
   "cell_type": "markdown",
   "metadata": {},
   "source": [
    "# Per Subject Analysis"
   ]
  },
  {
   "cell_type": "markdown",
   "metadata": {},
   "source": [
    "Select subject of interest:"
   ]
  },
  {
   "cell_type": "code",
   "execution_count": 78,
   "metadata": {},
   "outputs": [],
   "source": [
    "soi = \"subject1\""
   ]
  },
  {
   "cell_type": "code",
   "execution_count": null,
   "metadata": {},
   "outputs": [],
   "source": []
  }
 ],
 "metadata": {
  "kernelspec": {
   "display_name": "Python 3 (ipykernel)",
   "language": "python",
   "name": "python3"
  },
  "language_info": {
   "codemirror_mode": {
    "name": "ipython",
    "version": 3
   },
   "file_extension": ".py",
   "mimetype": "text/x-python",
   "name": "python",
   "nbconvert_exporter": "python",
   "pygments_lexer": "ipython3",
   "version": "3.8.10"
  }
 },
 "nbformat": 4,
 "nbformat_minor": 4
}
